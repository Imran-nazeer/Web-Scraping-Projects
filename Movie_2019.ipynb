{
 "cells": [
  {
   "cell_type": "code",
   "execution_count": 1,
   "metadata": {
    "collapsed": true
   },
   "outputs": [],
   "source": [
    "import requests\n",
    "from bs4 import BeautifulSoup"
   ]
  },
  {
   "cell_type": "code",
   "execution_count": 31,
   "metadata": {
    "collapsed": false
   },
   "outputs": [],
   "source": [
    "r = requests.get(\"https://timesofindia.indiatimes.com/entertainment/tamil/kollywood/top-20-best-tamil-movies-of-2019\")\n",
    "c = r.content\n",
    "\n",
    "soup = BeautifulSoup(c,\"html.parser\")\n",
    "\n",
    "all = soup.find_all(\"div\",{\"class\":\"topten_movies_content\"})\n",
    "\n",
    "\n",
    "\n"
   ]
  },
  {
   "cell_type": "code",
   "execution_count": 63,
   "metadata": {
    "collapsed": false
   },
   "outputs": [],
   "source": [
    "list = []\n",
    "for item in all:\n",
    "    dict = {}\n",
    "    dict[\"Movie\"]=item.find_all(\"h2\")[0].text.replace(\"\\n\",\"\").replace(\"(2019)\",\"\")\n",
    "    dict[\"Rating\"]=item.find_all(\"span\",{\"class\":\"topten_ratemovie\"})[0].find(\"span\").text.replace(\"\",\"\")\n",
    "    dict[\"Stars\"]=item.find_all(\"h3\")[0].text.replace(\"Star:\",\"\").replace(\" \",\"\").replace(\",\",\"|\")\n",
    "    list.append(dict)\n"
   ]
  },
  {
   "cell_type": "code",
   "execution_count": 64,
   "metadata": {
    "collapsed": false
   },
   "outputs": [
    {
     "data": {
      "text/plain": [
       "[{'Movie': 'Sillu Karuppatti ',\n",
       "  'Rating': '4',\n",
       "  'Stars': 'P.Samuthirakani|Sunainaa|SaraArjun|NivedhithaaSathish|LeelaSamson'},\n",
       " {'Movie': 'Karuppu Durai ', 'Rating': '4', 'Stars': 'MuRamaswamy'},\n",
       " {'Movie': 'Game Over ',\n",
       "  'Rating': '4',\n",
       "  'Stars': 'TaapseePannu|Vinodhini|RamyaSubramanian|SanchanaNatarajan'},\n",
       " {'Movie': 'Super Deluxe ',\n",
       "  'Rating': '4',\n",
       "  'Stars': 'VijaySethupathi|FahadhFaasil|SamanthaRuthPrabhu|RamyaKrishnan|Mysskin'},\n",
       " {'Movie': 'To Let ',\n",
       "  'Rating': '4',\n",
       "  'Stars': 'SanthoshSreeram|SheelaRajKumar|DharunBala'},\n",
       " {'Movie': 'Peranbu ',\n",
       "  'Rating': '4',\n",
       "  'Stars': 'Mammootty|P.Samuthirakani|Anjali|Livingstone'},\n",
       " {'Movie': 'Hero ',\n",
       "  'Rating': '3.5',\n",
       "  'Stars': 'Sivakarthikeyan|KalyaniPriyadarshan|AbhayDeol|ArjunSarja'},\n",
       " {'Movie': 'Irandam Ulagaporin Kadaisi Gundu ',\n",
       "  'Rating': '3.5',\n",
       "  'Stars': 'Dinesh|Anandhi|Riythvika|JohnVijay'},\n",
       " {'Movie': 'Adithya Varma ',\n",
       "  'Rating': '3.5',\n",
       "  'Stars': 'DhruvVikram|BanitaSandhu|PriyaAnand|LeelaSamson'},\n",
       " {'Movie': 'Kaithi ',\n",
       "  'Rating': '3.5',\n",
       "  'Stars': 'Karthi|Narain|Dheena|HareeshPeradi'},\n",
       " {'Movie': 'Asuran ',\n",
       "  'Rating': '3.5',\n",
       "  'Stars': 'Dhanush|ManjuWarrier|PrakashRaj|Pasupathy|YogiBabu|AadukalamNaren|GuruSomasundaram|BalajiSakthivel|ThalaivasalVijay'},\n",
       " {'Movie': 'Bailwaan ',\n",
       "  'Rating': '3.5',\n",
       "  'Stars': 'KichchaSudeepa|SunielShetty|AakankshaSingh'},\n",
       " {'Movie': 'Magamuni ',\n",
       "  'Rating': '3.5',\n",
       "  'Stars': 'Arya|MahimaNambiar|BalaSingh|Ilavarasu|V.Jayaprakash|Indhuja'},\n",
       " {'Movie': 'Nerkonda Paarvai ',\n",
       "  'Rating': '3.5',\n",
       "  'Stars': 'AjithKumar|ShraddhaSrinath|AndreaTariang|ArjunChidambaram|AdhikRavichandran|SujithShankar|DelhiGanesh'},\n",
       " {'Movie': 'Aadai ',\n",
       "  'Rating': '3.5',\n",
       "  'Stars': 'amalapaul|VivekPrasanna|RamyaSubramanian|Adiraj'},\n",
       " {'Movie': 'Jiivi ',\n",
       "  'Rating': '3.5',\n",
       "  'Stars': 'Vetri|Monicachinnakotla|Karunakaran|MimeGopi|Rohini'},\n",
       " {'Movie': 'House Owner ',\n",
       "  'Rating': '3.5',\n",
       "  'Stars': 'KishoreKumarG.|LovelynChandrasekhar|Sriranjani'},\n",
       " {'Movie': 'Pakkiri ',\n",
       "  'Rating': '3.5',\n",
       "  'Stars': 'Dhanush|ErinMoriarty|BarkhadAbdi|BereniceBejo|GerardJugnot|AbelJafri|BenMiller'},\n",
       " {'Movie': 'Kolaigaran ',\n",
       "  'Rating': '3.5',\n",
       "  'Stars': 'ArjunSarja|VijayAntony|AshimaNarwal|Nassar|Seetha|BagavathiPerumal|RamSampath'},\n",
       " {'Movie': 'Monster ',\n",
       "  'Rating': '3.5',\n",
       "  'Stars': 'S.J.Suryah|PriyaBhavaniSankar|Karunakaran'}]"
      ]
     },
     "execution_count": 64,
     "metadata": {},
     "output_type": "execute_result"
    }
   ],
   "source": [
    "list"
   ]
  },
  {
   "cell_type": "code",
   "execution_count": 65,
   "metadata": {
    "collapsed": true
   },
   "outputs": [],
   "source": [
    "import pandas as pd"
   ]
  },
  {
   "cell_type": "code",
   "execution_count": 67,
   "metadata": {
    "collapsed": true
   },
   "outputs": [],
   "source": [
    "df = pd.DataFrame(list)"
   ]
  },
  {
   "cell_type": "code",
   "execution_count": 68,
   "metadata": {
    "collapsed": false
   },
   "outputs": [
    {
     "data": {
      "text/html": [
       "<div>\n",
       "<table border=\"1\" class=\"dataframe\">\n",
       "  <thead>\n",
       "    <tr style=\"text-align: right;\">\n",
       "      <th></th>\n",
       "      <th>Movie</th>\n",
       "      <th>Rating</th>\n",
       "      <th>Stars</th>\n",
       "    </tr>\n",
       "  </thead>\n",
       "  <tbody>\n",
       "    <tr>\n",
       "      <th>0</th>\n",
       "      <td>Sillu Karuppatti</td>\n",
       "      <td>4</td>\n",
       "      <td>P.Samuthirakani|Sunainaa|SaraArjun|Nivedhithaa...</td>\n",
       "    </tr>\n",
       "    <tr>\n",
       "      <th>1</th>\n",
       "      <td>Karuppu Durai</td>\n",
       "      <td>4</td>\n",
       "      <td>MuRamaswamy</td>\n",
       "    </tr>\n",
       "    <tr>\n",
       "      <th>2</th>\n",
       "      <td>Game Over</td>\n",
       "      <td>4</td>\n",
       "      <td>TaapseePannu|Vinodhini|RamyaSubramanian|Sancha...</td>\n",
       "    </tr>\n",
       "    <tr>\n",
       "      <th>3</th>\n",
       "      <td>Super Deluxe</td>\n",
       "      <td>4</td>\n",
       "      <td>VijaySethupathi|FahadhFaasil|SamanthaRuthPrabh...</td>\n",
       "    </tr>\n",
       "    <tr>\n",
       "      <th>4</th>\n",
       "      <td>To Let</td>\n",
       "      <td>4</td>\n",
       "      <td>SanthoshSreeram|SheelaRajKumar|DharunBala</td>\n",
       "    </tr>\n",
       "    <tr>\n",
       "      <th>5</th>\n",
       "      <td>Peranbu</td>\n",
       "      <td>4</td>\n",
       "      <td>Mammootty|P.Samuthirakani|Anjali|Livingstone</td>\n",
       "    </tr>\n",
       "    <tr>\n",
       "      <th>6</th>\n",
       "      <td>Hero</td>\n",
       "      <td>3.5</td>\n",
       "      <td>Sivakarthikeyan|KalyaniPriyadarshan|AbhayDeol|...</td>\n",
       "    </tr>\n",
       "    <tr>\n",
       "      <th>7</th>\n",
       "      <td>Irandam Ulagaporin Kadaisi Gundu</td>\n",
       "      <td>3.5</td>\n",
       "      <td>Dinesh|Anandhi|Riythvika|JohnVijay</td>\n",
       "    </tr>\n",
       "    <tr>\n",
       "      <th>8</th>\n",
       "      <td>Adithya Varma</td>\n",
       "      <td>3.5</td>\n",
       "      <td>DhruvVikram|BanitaSandhu|PriyaAnand|LeelaSamson</td>\n",
       "    </tr>\n",
       "    <tr>\n",
       "      <th>9</th>\n",
       "      <td>Kaithi</td>\n",
       "      <td>3.5</td>\n",
       "      <td>Karthi|Narain|Dheena|HareeshPeradi</td>\n",
       "    </tr>\n",
       "    <tr>\n",
       "      <th>10</th>\n",
       "      <td>Asuran</td>\n",
       "      <td>3.5</td>\n",
       "      <td>Dhanush|ManjuWarrier|PrakashRaj|Pasupathy|Yogi...</td>\n",
       "    </tr>\n",
       "    <tr>\n",
       "      <th>11</th>\n",
       "      <td>Bailwaan</td>\n",
       "      <td>3.5</td>\n",
       "      <td>KichchaSudeepa|SunielShetty|AakankshaSingh</td>\n",
       "    </tr>\n",
       "    <tr>\n",
       "      <th>12</th>\n",
       "      <td>Magamuni</td>\n",
       "      <td>3.5</td>\n",
       "      <td>Arya|MahimaNambiar|BalaSingh|Ilavarasu|V.Jayap...</td>\n",
       "    </tr>\n",
       "    <tr>\n",
       "      <th>13</th>\n",
       "      <td>Nerkonda Paarvai</td>\n",
       "      <td>3.5</td>\n",
       "      <td>AjithKumar|ShraddhaSrinath|AndreaTariang|Arjun...</td>\n",
       "    </tr>\n",
       "    <tr>\n",
       "      <th>14</th>\n",
       "      <td>Aadai</td>\n",
       "      <td>3.5</td>\n",
       "      <td>amalapaul|VivekPrasanna|RamyaSubramanian|Adiraj</td>\n",
       "    </tr>\n",
       "    <tr>\n",
       "      <th>15</th>\n",
       "      <td>Jiivi</td>\n",
       "      <td>3.5</td>\n",
       "      <td>Vetri|Monicachinnakotla|Karunakaran|MimeGopi|R...</td>\n",
       "    </tr>\n",
       "    <tr>\n",
       "      <th>16</th>\n",
       "      <td>House Owner</td>\n",
       "      <td>3.5</td>\n",
       "      <td>KishoreKumarG.|LovelynChandrasekhar|Sriranjani</td>\n",
       "    </tr>\n",
       "    <tr>\n",
       "      <th>17</th>\n",
       "      <td>Pakkiri</td>\n",
       "      <td>3.5</td>\n",
       "      <td>Dhanush|ErinMoriarty|BarkhadAbdi|BereniceBejo|...</td>\n",
       "    </tr>\n",
       "    <tr>\n",
       "      <th>18</th>\n",
       "      <td>Kolaigaran</td>\n",
       "      <td>3.5</td>\n",
       "      <td>ArjunSarja|VijayAntony|AshimaNarwal|Nassar|See...</td>\n",
       "    </tr>\n",
       "    <tr>\n",
       "      <th>19</th>\n",
       "      <td>Monster</td>\n",
       "      <td>3.5</td>\n",
       "      <td>S.J.Suryah|PriyaBhavaniSankar|Karunakaran</td>\n",
       "    </tr>\n",
       "  </tbody>\n",
       "</table>\n",
       "</div>"
      ],
      "text/plain": [
       "                                Movie Rating  \\\n",
       "0                   Sillu Karuppatti       4   \n",
       "1                      Karuppu Durai       4   \n",
       "2                          Game Over       4   \n",
       "3                       Super Deluxe       4   \n",
       "4                             To Let       4   \n",
       "5                            Peranbu       4   \n",
       "6                               Hero     3.5   \n",
       "7   Irandam Ulagaporin Kadaisi Gundu     3.5   \n",
       "8                      Adithya Varma     3.5   \n",
       "9                             Kaithi     3.5   \n",
       "10                            Asuran     3.5   \n",
       "11                          Bailwaan     3.5   \n",
       "12                          Magamuni     3.5   \n",
       "13                  Nerkonda Paarvai     3.5   \n",
       "14                             Aadai     3.5   \n",
       "15                             Jiivi     3.5   \n",
       "16                       House Owner     3.5   \n",
       "17                           Pakkiri     3.5   \n",
       "18                        Kolaigaran     3.5   \n",
       "19                           Monster     3.5   \n",
       "\n",
       "                                                Stars  \n",
       "0   P.Samuthirakani|Sunainaa|SaraArjun|Nivedhithaa...  \n",
       "1                                         MuRamaswamy  \n",
       "2   TaapseePannu|Vinodhini|RamyaSubramanian|Sancha...  \n",
       "3   VijaySethupathi|FahadhFaasil|SamanthaRuthPrabh...  \n",
       "4           SanthoshSreeram|SheelaRajKumar|DharunBala  \n",
       "5        Mammootty|P.Samuthirakani|Anjali|Livingstone  \n",
       "6   Sivakarthikeyan|KalyaniPriyadarshan|AbhayDeol|...  \n",
       "7                  Dinesh|Anandhi|Riythvika|JohnVijay  \n",
       "8     DhruvVikram|BanitaSandhu|PriyaAnand|LeelaSamson  \n",
       "9                  Karthi|Narain|Dheena|HareeshPeradi  \n",
       "10  Dhanush|ManjuWarrier|PrakashRaj|Pasupathy|Yogi...  \n",
       "11         KichchaSudeepa|SunielShetty|AakankshaSingh  \n",
       "12  Arya|MahimaNambiar|BalaSingh|Ilavarasu|V.Jayap...  \n",
       "13  AjithKumar|ShraddhaSrinath|AndreaTariang|Arjun...  \n",
       "14    amalapaul|VivekPrasanna|RamyaSubramanian|Adiraj  \n",
       "15  Vetri|Monicachinnakotla|Karunakaran|MimeGopi|R...  \n",
       "16     KishoreKumarG.|LovelynChandrasekhar|Sriranjani  \n",
       "17  Dhanush|ErinMoriarty|BarkhadAbdi|BereniceBejo|...  \n",
       "18  ArjunSarja|VijayAntony|AshimaNarwal|Nassar|See...  \n",
       "19          S.J.Suryah|PriyaBhavaniSankar|Karunakaran  "
      ]
     },
     "execution_count": 68,
     "metadata": {},
     "output_type": "execute_result"
    }
   ],
   "source": [
    "df"
   ]
  },
  {
   "cell_type": "code",
   "execution_count": 69,
   "metadata": {
    "collapsed": false
   },
   "outputs": [],
   "source": [
    "df.to_csv(\"Movie_2019.csv\")"
   ]
  },
  {
   "cell_type": "code",
   "execution_count": null,
   "metadata": {
    "collapsed": true
   },
   "outputs": [],
   "source": []
  }
 ],
 "metadata": {
  "kernelspec": {
   "display_name": "Python [default]",
   "language": "python",
   "name": "python3"
  },
  "language_info": {
   "codemirror_mode": {
    "name": "ipython",
    "version": 3
   },
   "file_extension": ".py",
   "mimetype": "text/x-python",
   "name": "python",
   "nbconvert_exporter": "python",
   "pygments_lexer": "ipython3",
   "version": "3.5.2"
  }
 },
 "nbformat": 4,
 "nbformat_minor": 1
}
